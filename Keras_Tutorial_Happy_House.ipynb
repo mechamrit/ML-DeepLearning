{
  "nbformat": 4,
  "nbformat_minor": 0,
  "metadata": {
    "colab": {
      "name": "Keras - Tutorial - Happy House.ipynb",
      "version": "0.3.2",
      "provenance": [],
      "collapsed_sections": [],
      "include_colab_link": true
    },
    "kernelspec": {
      "name": "python3",
      "display_name": "Python 3"
    }
  },
  "cells": [
    {
      "cell_type": "markdown",
      "metadata": {
        "id": "view-in-github",
        "colab_type": "text"
      },
      "source": [
        "<a href=\"https://colab.research.google.com/github/mechamrit/ML-DeepLearning/blob/master/Keras_Tutorial_Happy_House.ipynb\" target=\"_parent\"><img src=\"https://colab.research.google.com/assets/colab-badge.svg\" alt=\"Open In Colab\"/></a>"
      ]
    },
    {
      "cell_type": "markdown",
      "metadata": {
        "id": "srQqIb89i1CC",
        "colab_type": "text"
      },
      "source": [
        "# Keras tutorial - the Happy House\n",
        "\n",
        "Welcome to the first assignment of week 2. In this assignment, you will:\n",
        "1. Learn to use Keras, a high-level neural networks API (programming framework), written in Python and capable of running on top of several lower-level frameworks including TensorFlow and CNTK. \n",
        "2. See how you can in a couple of hours build a deep learning algorithm.\n",
        "\n",
        "Why are we using Keras? Keras was developed to enable deep learning engineers to build and experiment with different models very quickly. Just as TensorFlow is a higher-level framework than Python, Keras is an even higher-level framework and provides additional abstractions. Being able to go from idea to result with the least possible delay is key to finding good models. However, Keras is more restrictive than the lower-level frameworks, so there are some very complex models that you can implement in TensorFlow but not (without more difficulty) in Keras. That being said, Keras will work fine for many common models. \n",
        "\n",
        "In this exercise, you'll work on the \"Happy House\" problem, which we'll explain below. Let's load the required packages and solve the problem of the Happy House!"
      ]
    },
    {
      "cell_type": "code",
      "metadata": {
        "id": "BjrIoGStiavQ",
        "colab_type": "code",
        "colab": {
          "base_uri": "https://localhost:8080/",
          "height": 34
        },
        "outputId": "ccb6198c-3e55-47d3-c4a2-f483eb935084"
      },
      "source": [
        "import numpy as np\n",
        "from keras import layers\n",
        "from keras.layers import Input, Dense, Activation, ZeroPadding2D, BatchNormalization, Flatten, Conv2D\n",
        "from keras.layers import AveragePooling2D, MaxPooling2D, Dropout, GlobalMaxPooling2D, GlobalAveragePooling2D\n",
        "from keras.models import Model\n",
        "from keras.preprocessing import image\n",
        "from keras.utils import layer_utils\n",
        "from keras.utils.data_utils import get_file\n",
        "from keras.applications.imagenet_utils import preprocess_input\n",
        "import pydot\n",
        "from IPython.display import SVG\n",
        "from keras.utils.vis_utils import model_to_dot\n",
        "from keras.utils import plot_model\n",
        "\n",
        "\n",
        "import keras.backend as K\n",
        "K.set_image_data_format('channels_last')\n",
        "import matplotlib.pyplot as plt\n",
        "from matplotlib.pyplot import imshow\n",
        "\n",
        "%matplotlib inline"
      ],
      "execution_count": 1,
      "outputs": [
        {
          "output_type": "stream",
          "text": [
            "Using TensorFlow backend.\n"
          ],
          "name": "stderr"
        }
      ]
    },
    {
      "cell_type": "code",
      "metadata": {
        "id": "l6NPeRRkjBqn",
        "colab_type": "code",
        "colab": {}
      },
      "source": [
        "import keras.backend as K\n",
        "import math\n",
        "import numpy as np\n",
        "import h5py\n",
        "import matplotlib.pyplot as plt\n",
        "\n",
        "\n",
        "def mean_pred(y_true, y_pred):\n",
        "    return K.mean(y_pred)\n",
        "\n",
        "def load_dataset():\n",
        "    train_dataset = h5py.File('drive/My Drive/Dataset//train_happy.h5', \"r\")\n",
        "    train_set_x_orig = np.array(train_dataset[\"train_set_x\"][:]) # your train set features\n",
        "    train_set_y_orig = np.array(train_dataset[\"train_set_y\"][:]) # your train set labels\n",
        "\n",
        "    test_dataset = h5py.File('drive/My Drive/Dataset/test_happy.h5', \"r\")\n",
        "    test_set_x_orig = np.array(test_dataset[\"test_set_x\"][:]) # your test set features\n",
        "    test_set_y_orig = np.array(test_dataset[\"test_set_y\"][:]) # your test set labels\n",
        "\n",
        "    classes = np.array(test_dataset[\"list_classes\"][:]) # the list of classes\n",
        "    \n",
        "    train_set_y_orig = train_set_y_orig.reshape((1, train_set_y_orig.shape[0]))\n",
        "    test_set_y_orig = test_set_y_orig.reshape((1, test_set_y_orig.shape[0]))\n",
        "    \n",
        "    return train_set_x_orig, train_set_y_orig, test_set_x_orig, test_set_y_orig, classes"
      ],
      "execution_count": 0,
      "outputs": []
    },
    {
      "cell_type": "code",
      "metadata": {
        "id": "TEmwP2VEjIJC",
        "colab_type": "code",
        "colab": {
          "base_uri": "https://localhost:8080/",
          "height": 121
        },
        "outputId": "206bf113-15b0-4e43-89fb-e173427d20d6"
      },
      "source": [
        "X_train_orig, Y_train_orig, X_test_orig, Y_test_orig, classes = load_dataset()\n",
        "\n",
        "# Normalize image vectors\n",
        "X_train = X_train_orig/255.\n",
        "X_test = X_test_orig/255.\n",
        "\n",
        "# Reshape\n",
        "Y_train = Y_train_orig.T\n",
        "Y_test = Y_test_orig.T\n",
        "\n",
        "print (\"number of training examples = \" + str(X_train.shape[0]))\n",
        "print (\"number of test examples = \" + str(X_test.shape[0]))\n",
        "print (\"X_train shape: \" + str(X_train.shape))\n",
        "print (\"Y_train shape: \" + str(Y_train.shape))\n",
        "print (\"X_test shape: \" + str(X_test.shape))\n",
        "print (\"Y_test shape: \" + str(Y_test.shape))"
      ],
      "execution_count": 3,
      "outputs": [
        {
          "output_type": "stream",
          "text": [
            "number of training examples = 600\n",
            "number of test examples = 150\n",
            "X_train shape: (600, 64, 64, 3)\n",
            "Y_train shape: (600, 1)\n",
            "X_test shape: (150, 64, 64, 3)\n",
            "Y_test shape: (150, 1)\n"
          ],
          "name": "stdout"
        }
      ]
    },
    {
      "cell_type": "markdown",
      "metadata": {
        "id": "EMeB0YRVjqmA",
        "colab_type": "text"
      },
      "source": [
        "## 2 - Building a model in Keras\n",
        "\n",
        "Keras is very good for rapid prototyping. In just a short time you will be able to build a model that achieves outstanding results.\n",
        "\n",
        "Here is an example of a model in Keras:\n",
        "\n",
        "```python\n",
        "def model(input_shape):\n",
        "    # Define the input placeholder as a tensor with shape input_shape. Think of this as your input image!\n",
        "    X_input = Input(input_shape)\n",
        "\n",
        "    # Zero-Padding: pads the border of X_input with zeroes\n",
        "    X = ZeroPadding2D((3, 3))(X_input)\n",
        "\n",
        "    # CONV -> BN -> RELU Block applied to X\n",
        "    X = Conv2D(32, (7, 7), strides = (1, 1), name = 'conv0')(X)\n",
        "    X = BatchNormalization(axis = 3, name = 'bn0')(X)\n",
        "    X = Activation('relu')(X)\n",
        "\n",
        "    # MAXPOOL\n",
        "    X = MaxPooling2D((2, 2), name='max_pool')(X)\n",
        "\n",
        "    # FLATTEN X (means convert it to a vector) + FULLYCONNECTED\n",
        "    X = Flatten()(X)\n",
        "    X = Dense(1, activation='sigmoid', name='fc')(X)\n",
        "\n",
        "    # Create model. This creates your Keras model instance, you'll use this instance to train/test the model.\n",
        "    model = Model(inputs = X_input, outputs = X, name='HappyModel')\n",
        "    \n",
        "    return model\n",
        "```\n",
        "\n",
        "Note that Keras uses a different convention with variable names than we've previously used with numpy and TensorFlow. In particular, rather than creating and assigning a new variable on each step of forward propagation such as `X`, `Z1`, `A1`, `Z2`, `A2`, etc. for the computations for the different layers, in Keras code each line above just reassigns `X` to a new value using `X = ...`. In other words, during each step of forward propagation, we are just writing the latest value in the commputation into the same variable `X`. The only exception was `X_input`, which we kept separate and did not overwrite, since we needed it at the end to create the Keras model instance (`model = Model(inputs = X_input, ...)` above). \n",
        "\n",
        "**Exercise**: Implement a `HappyModel()`. This assignment is more open-ended than most. We suggest that you start by implementing a model using the architecture we suggest, and run through the rest of this assignment using that as your initial model. But after that, come back and take initiative to try out other model architectures. For example, you might take inspiration from the model above, but then vary the network architecture and hyperparameters however you wish. You can also use other functions such as `AveragePooling2D()`, `GlobalMaxPooling2D()`, `Dropout()`. \n",
        "\n",
        "**Note**: You have to be careful with your data's shapes. Use what you've learned in the videos to make sure your convolutional, pooling and fully-connected layers are adapted to the volumes you're applying it to."
      ]
    },
    {
      "cell_type": "code",
      "metadata": {
        "id": "AWw7R_czjfd-",
        "colab_type": "code",
        "colab": {}
      },
      "source": [
        "# GRADED FUNCTION: HappyModel\n",
        "\n",
        "def HappyModel(input_shape):\n",
        "    \"\"\"\n",
        "    Implementation of the HappyModel.\n",
        "    \n",
        "    Arguments:\n",
        "    input_shape -- shape of the images of the dataset\n",
        "\n",
        "    Returns:\n",
        "    model -- a Model() instance in Keras\n",
        "    \"\"\"\n",
        "    \n",
        "    ### START CODE HERE ###\n",
        "    # Feel free to use the suggested outline in the text above to get started, and run through the whole\n",
        "    # exercise (including the later portions of this notebook) once. The come back also try out other\n",
        "    # network architectures as well. \n",
        "    \n",
        "    \n",
        "        # Define the input placeholder as a tensor with shape input_shape. Think of this as your input image!\n",
        "    X_input = Input(input_shape)\n",
        "\n",
        "    # Zero-Padding: pads the border of X_input with zeroes\n",
        "    X = ZeroPadding2D((3, 3))(X_input)\n",
        "\n",
        "    # CONV -> BN -> RELU Block applied to X\n",
        "    X = Conv2D(32, (7, 7), strides = (1, 1), name = 'conv0')(X)\n",
        "    X = BatchNormalization(axis = 3, name = 'bn0')(X)\n",
        "    X = Activation('relu')(X)\n",
        "\n",
        "    # MAXPOOL\n",
        "    X = MaxPooling2D((2, 2), name='max_pool')(X)\n",
        "\n",
        "    # FLATTEN X (means convert it to a vector) + FULLYCONNECTED\n",
        "    X = Flatten()(X)\n",
        "    X = Dense(1, activation='sigmoid', name='fc')(X)\n",
        "\n",
        "    # Create model. This creates your Keras model instance, you'll use this instance to train/test the model.\n",
        "    model = Model(inputs = X_input, outputs = X, name='HappyModel')\n",
        "    \n",
        "    ### END CODE HERE ###\n",
        "    \n",
        "    return model"
      ],
      "execution_count": 0,
      "outputs": []
    },
    {
      "cell_type": "markdown",
      "metadata": {
        "id": "xNMurooTkAf9",
        "colab_type": "text"
      },
      "source": [
        "You have now built a function to describe your model. To train and test this model, there are four steps in Keras:\n",
        "1. Create the model by calling the function above\n",
        "2. Compile the model by calling `model.compile(optimizer = \"...\", loss = \"...\", metrics = [\"accuracy\"])`\n",
        "3. Train the model on train data by calling `model.fit(x = ..., y = ..., epochs = ..., batch_size = ...)`\n",
        "4. Test the model on test data by calling `model.evaluate(x = ..., y = ...)`\n",
        "\n",
        "If you want to know more about `model.compile()`, `model.fit()`, `model.evaluate()` and their arguments, refer to the official [Keras documentation](https://keras.io/models/model/).\n",
        "\n",
        "**Exercise**: Implement step 1, i.e. create the model."
      ]
    },
    {
      "cell_type": "code",
      "metadata": {
        "id": "wzGCrh6-j4o0",
        "colab_type": "code",
        "colab": {
          "base_uri": "https://localhost:8080/",
          "height": 280
        },
        "outputId": "23fc604d-4edd-43f0-e7c7-b1c45f72f1ec"
      },
      "source": [
        "### START CODE HERE ### (1 line)\n",
        "happyModel = HappyModel((64,64,3))\n",
        "### END CODE HERE ###"
      ],
      "execution_count": 5,
      "outputs": [
        {
          "output_type": "stream",
          "text": [
            "WARNING:tensorflow:From /usr/local/lib/python3.6/dist-packages/keras/backend/tensorflow_backend.py:66: The name tf.get_default_graph is deprecated. Please use tf.compat.v1.get_default_graph instead.\n",
            "\n",
            "WARNING:tensorflow:From /usr/local/lib/python3.6/dist-packages/keras/backend/tensorflow_backend.py:541: The name tf.placeholder is deprecated. Please use tf.compat.v1.placeholder instead.\n",
            "\n",
            "WARNING:tensorflow:From /usr/local/lib/python3.6/dist-packages/keras/backend/tensorflow_backend.py:4432: The name tf.random_uniform is deprecated. Please use tf.random.uniform instead.\n",
            "\n",
            "WARNING:tensorflow:From /usr/local/lib/python3.6/dist-packages/keras/backend/tensorflow_backend.py:190: The name tf.get_default_session is deprecated. Please use tf.compat.v1.get_default_session instead.\n",
            "\n",
            "WARNING:tensorflow:From /usr/local/lib/python3.6/dist-packages/keras/backend/tensorflow_backend.py:197: The name tf.ConfigProto is deprecated. Please use tf.compat.v1.ConfigProto instead.\n",
            "\n",
            "WARNING:tensorflow:From /usr/local/lib/python3.6/dist-packages/keras/backend/tensorflow_backend.py:2041: The name tf.nn.fused_batch_norm is deprecated. Please use tf.compat.v1.nn.fused_batch_norm instead.\n",
            "\n",
            "WARNING:tensorflow:From /usr/local/lib/python3.6/dist-packages/keras/backend/tensorflow_backend.py:4267: The name tf.nn.max_pool is deprecated. Please use tf.nn.max_pool2d instead.\n",
            "\n"
          ],
          "name": "stdout"
        }
      ]
    },
    {
      "cell_type": "code",
      "metadata": {
        "id": "vDxoGhcEkDI_",
        "colab_type": "code",
        "colab": {
          "base_uri": "https://localhost:8080/",
          "height": 124
        },
        "outputId": "b3bb88f7-3479-442c-cd69-cc2959b45f58"
      },
      "source": [
        "### START CODE HERE ### (1 line)\n",
        "happyModel.compile(optimizer=\"adam\",loss=\"binary_crossentropy\",metrics=[\"accuracy\"])\n",
        "### END CODE HERE ###"
      ],
      "execution_count": 6,
      "outputs": [
        {
          "output_type": "stream",
          "text": [
            "WARNING:tensorflow:From /usr/local/lib/python3.6/dist-packages/keras/optimizers.py:793: The name tf.train.Optimizer is deprecated. Please use tf.compat.v1.train.Optimizer instead.\n",
            "\n",
            "WARNING:tensorflow:From /usr/local/lib/python3.6/dist-packages/tensorflow/python/ops/nn_impl.py:180: add_dispatch_support.<locals>.wrapper (from tensorflow.python.ops.array_ops) is deprecated and will be removed in a future version.\n",
            "Instructions for updating:\n",
            "Use tf.where in 2.0, which has the same broadcast rule as np.where\n"
          ],
          "name": "stdout"
        }
      ]
    },
    {
      "cell_type": "code",
      "metadata": {
        "id": "pq34AQXmkFhh",
        "colab_type": "code",
        "colab": {
          "base_uri": "https://localhost:8080/",
          "height": 1000
        },
        "outputId": "3670a70f-70e5-4a15-bfba-e9527e98a410"
      },
      "source": [
        "### START CODE HERE ### (1 line)\n",
        "happyModel.fit(x=X_train,y=Y_train,epochs=40,batch_size=16)\n",
        "### END CODE HERE ###"
      ],
      "execution_count": 7,
      "outputs": [
        {
          "output_type": "stream",
          "text": [
            "Epoch 1/40\n",
            "600/600 [==============================] - 6s 9ms/step - loss: 1.1942 - acc: 0.6683\n",
            "Epoch 2/40\n",
            "600/600 [==============================] - 5s 9ms/step - loss: 0.5249 - acc: 0.8350\n",
            "Epoch 3/40\n",
            "600/600 [==============================] - 5s 9ms/step - loss: 0.2773 - acc: 0.9133\n",
            "Epoch 4/40\n",
            "600/600 [==============================] - 5s 9ms/step - loss: 0.1127 - acc: 0.9667\n",
            "Epoch 5/40\n",
            "600/600 [==============================] - 5s 9ms/step - loss: 0.0987 - acc: 0.9617\n",
            "Epoch 6/40\n",
            "600/600 [==============================] - 5s 9ms/step - loss: 0.1688 - acc: 0.9417\n",
            "Epoch 7/40\n",
            "600/600 [==============================] - 5s 9ms/step - loss: 0.2267 - acc: 0.9233\n",
            "Epoch 8/40\n",
            "600/600 [==============================] - 5s 9ms/step - loss: 0.0664 - acc: 0.9783\n",
            "Epoch 9/40\n",
            "600/600 [==============================] - 5s 9ms/step - loss: 0.0710 - acc: 0.9767\n",
            "Epoch 10/40\n",
            "600/600 [==============================] - 5s 9ms/step - loss: 0.0833 - acc: 0.9733\n",
            "Epoch 11/40\n",
            "600/600 [==============================] - 5s 9ms/step - loss: 0.0716 - acc: 0.9767\n",
            "Epoch 12/40\n",
            "600/600 [==============================] - 5s 9ms/step - loss: 0.0399 - acc: 0.9867\n",
            "Epoch 13/40\n",
            "600/600 [==============================] - 5s 9ms/step - loss: 0.0567 - acc: 0.9767\n",
            "Epoch 14/40\n",
            "600/600 [==============================] - 5s 9ms/step - loss: 0.0488 - acc: 0.9850\n",
            "Epoch 15/40\n",
            "600/600 [==============================] - 5s 9ms/step - loss: 0.0719 - acc: 0.9800\n",
            "Epoch 16/40\n",
            "600/600 [==============================] - 5s 9ms/step - loss: 0.0976 - acc: 0.9650\n",
            "Epoch 17/40\n",
            "600/600 [==============================] - 5s 9ms/step - loss: 0.0734 - acc: 0.9733\n",
            "Epoch 18/40\n",
            "600/600 [==============================] - 5s 9ms/step - loss: 0.1807 - acc: 0.9333\n",
            "Epoch 19/40\n",
            "600/600 [==============================] - 5s 9ms/step - loss: 0.1063 - acc: 0.9667\n",
            "Epoch 20/40\n",
            "600/600 [==============================] - 5s 9ms/step - loss: 0.1661 - acc: 0.9483\n",
            "Epoch 21/40\n",
            "600/600 [==============================] - 5s 9ms/step - loss: 0.0911 - acc: 0.9733\n",
            "Epoch 22/40\n",
            "600/600 [==============================] - 5s 9ms/step - loss: 0.0467 - acc: 0.9783\n",
            "Epoch 23/40\n",
            "600/600 [==============================] - 5s 9ms/step - loss: 0.0535 - acc: 0.9867\n",
            "Epoch 24/40\n",
            "600/600 [==============================] - 5s 9ms/step - loss: 0.1337 - acc: 0.9600\n",
            "Epoch 25/40\n",
            "600/600 [==============================] - 5s 9ms/step - loss: 0.1839 - acc: 0.9500\n",
            "Epoch 26/40\n",
            "600/600 [==============================] - 5s 9ms/step - loss: 0.0668 - acc: 0.9850\n",
            "Epoch 27/40\n",
            "600/600 [==============================] - 5s 9ms/step - loss: 0.0664 - acc: 0.9750\n",
            "Epoch 28/40\n",
            "600/600 [==============================] - 5s 9ms/step - loss: 0.0475 - acc: 0.9833\n",
            "Epoch 29/40\n",
            "600/600 [==============================] - 5s 9ms/step - loss: 0.0748 - acc: 0.9750\n",
            "Epoch 30/40\n",
            "600/600 [==============================] - 5s 9ms/step - loss: 0.1295 - acc: 0.9517\n",
            "Epoch 31/40\n",
            "600/600 [==============================] - 5s 9ms/step - loss: 0.0574 - acc: 0.9850\n",
            "Epoch 32/40\n",
            "600/600 [==============================] - 5s 9ms/step - loss: 0.0951 - acc: 0.9733\n",
            "Epoch 33/40\n",
            "600/600 [==============================] - 5s 9ms/step - loss: 0.0226 - acc: 0.9900\n",
            "Epoch 34/40\n",
            "600/600 [==============================] - 5s 9ms/step - loss: 0.0208 - acc: 0.9933\n",
            "Epoch 35/40\n",
            "600/600 [==============================] - 5s 9ms/step - loss: 0.0190 - acc: 0.9933\n",
            "Epoch 36/40\n",
            "600/600 [==============================] - 5s 9ms/step - loss: 0.0389 - acc: 0.9933\n",
            "Epoch 37/40\n",
            "600/600 [==============================] - 5s 9ms/step - loss: 0.0271 - acc: 0.9950\n",
            "Epoch 38/40\n",
            "600/600 [==============================] - 5s 9ms/step - loss: 0.0696 - acc: 0.9833\n",
            "Epoch 39/40\n",
            "600/600 [==============================] - 5s 9ms/step - loss: 0.0268 - acc: 0.9917\n",
            "Epoch 40/40\n",
            "600/600 [==============================] - 5s 9ms/step - loss: 0.0196 - acc: 0.9933\n"
          ],
          "name": "stdout"
        },
        {
          "output_type": "execute_result",
          "data": {
            "text/plain": [
              "<keras.callbacks.History at 0x7fd6bf5dcb38>"
            ]
          },
          "metadata": {
            "tags": []
          },
          "execution_count": 7
        }
      ]
    },
    {
      "cell_type": "markdown",
      "metadata": {
        "id": "LPzUWOPmkpD_",
        "colab_type": "text"
      },
      "source": [
        "Note that if you run `fit()` again, the `model` will continue to train with the parameters it has already learnt instead of reinitializing them.\n",
        "\n",
        "**Exercise**: Implement step 4, i.e. test/evaluate the model."
      ]
    },
    {
      "cell_type": "code",
      "metadata": {
        "id": "AtNPjXblkIHp",
        "colab_type": "code",
        "colab": {
          "base_uri": "https://localhost:8080/",
          "height": 86
        },
        "outputId": "948bf08a-b204-4e32-d79e-59d0582a64f2"
      },
      "source": [
        "### START CODE HERE ### (1 line)\n",
        "preds = happyModel.evaluate(x = X_test,y = Y_test)\n",
        "### END CODE HERE ###\n",
        "print()\n",
        "print (\"Loss = \" + str(preds[0]))\n",
        "print (\"Test Accuracy = \" + str(preds[1]))"
      ],
      "execution_count": 8,
      "outputs": [
        {
          "output_type": "stream",
          "text": [
            "150/150 [==============================] - 1s 4ms/step\n",
            "\n",
            "Loss = 0.085811471392711\n",
            "Test Accuracy = 0.9733333373069764\n"
          ],
          "name": "stdout"
        }
      ]
    },
    {
      "cell_type": "markdown",
      "metadata": {
        "id": "OSQpsYurkzgP",
        "colab_type": "text"
      },
      "source": [
        "If your `happyModel()` function worked, you should have observed much better than random-guessing (50%) accuracy on the train and test sets.\n",
        "\n",
        "To give you a point of comparison, our model gets around **95% test accuracy in 40 epochs** (and 99% train accuracy) with a mini batch size of 16 and \"adam\" optimizer. But our model gets decent accuracy after just 2-5 epochs, so if you're comparing different models you can also train a variety of models on just a few epochs and see how they compare. \n",
        "\n",
        "If you have not yet achieved a very good accuracy (let's say more than 80%), here're some things you can play around with to try to achieve it:\n",
        "\n",
        "- Try using blocks of CONV->BATCHNORM->RELU such as:\n",
        "```python\n",
        "X = Conv2D(32, (3, 3), strides = (1, 1), name = 'conv0')(X)\n",
        "X = BatchNormalization(axis = 3, name = 'bn0')(X)\n",
        "X = Activation('relu')(X)\n",
        "```\n",
        "until your height and width dimensions are quite low and your number of channels quite large (≈32 for example). You are encoding useful information in a volume with a lot of channels. You can then flatten the volume and use a fully-connected layer.\n",
        "- You can use MAXPOOL after such blocks. It will help you lower the dimension in height and width.\n",
        "- Change your optimizer. We find Adam works well. \n",
        "- If the model is struggling to run and you get memory issues, lower your batch_size (12 is usually a good compromise)\n",
        "- Run on more epochs, until you see the train accuracy plateauing. \n",
        "\n",
        "Even if you have achieved a good accuracy, please feel free to keep playing with your model to try to get even better results. \n",
        "\n",
        "**Note**: If you perform hyperparameter tuning on your model, the test set actually becomes a dev set, and your model might end up overfitting to the test (dev) set. But just for the purpose of this assignment, we won't worry about that here.\n"
      ]
    },
    {
      "cell_type": "code",
      "metadata": {
        "id": "MvgA-rMEkvhA",
        "colab_type": "code",
        "colab": {}
      },
      "source": [
        ""
      ],
      "execution_count": 0,
      "outputs": []
    }
  ]
}